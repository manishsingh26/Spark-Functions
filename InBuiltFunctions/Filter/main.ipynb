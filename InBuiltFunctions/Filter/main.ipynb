{
 "cells": [
  {
   "cell_type": "code",
   "execution_count": 1,
   "metadata": {},
   "outputs": [
    {
     "name": "stderr",
     "output_type": "stream",
     "text": [
      "Setting default log level to \"WARN\".\n",
      "To adjust logging level use sc.setLogLevel(newLevel). For SparkR, use setLogLevel(newLevel).\n",
      "24/01/24 15:46:23 WARN NativeCodeLoader: Unable to load native-hadoop library for your platform... using builtin-java classes where applicable\n",
      "24/01/24 15:46:24 WARN Utils: Service 'SparkUI' could not bind on port 4040. Attempting port 4041.\n"
     ]
    }
   ],
   "source": [
    "from pyspark.sql import SparkSession\n",
    "\n",
    "\n",
    "spark = SparkSession.builder.master(\"local[*]\").appName(\"Filter\").getOrCreate()"
   ]
  },
  {
   "cell_type": "code",
   "execution_count": 6,
   "metadata": {},
   "outputs": [],
   "source": [
    "from pyspark.sql.types import StructType, StructField, StringType, IntegerType\n",
    "\n",
    "flight_schema = StructType([StructField(\"airline\", StringType(), True), StructField(\"flight\", StringType(), True), \\\n",
    "                            StructField(\"source_city\", StringType(), True), StructField(\"departure_time\", StringType(), True), \\\n",
    "                            StructField(\"stops\", StringType(), True), StructField(\"arrival_time\", StringType(), True), \\\n",
    "                            StructField(\"destination_city\", StringType(), True), StructField(\"class\", StringType(), True), \\\n",
    "                            StructField(\"duration\", IntegerType(), True), StructField(\"days_left\", IntegerType(), True), StructField(\"price\", IntegerType(), True)])\n",
    "\n",
    "df = spark.read.format(\"csv\").option(\"header\", \"True\").schema(flight_schema).load(\"/home/manish/Documents/VSCodeProjects/Spark-Functions/SampleData/flight_data.csv\")"
   ]
  },
  {
   "cell_type": "code",
   "execution_count": 7,
   "metadata": {},
   "outputs": [
    {
     "name": "stdout",
     "output_type": "stream",
     "text": [
      "+--------+-------+-----------+--------------+-----+------------+----------------+-------+--------+---------+-----+\n",
      "| airline| flight|source_city|departure_time|stops|arrival_time|destination_city|  class|duration|days_left|price|\n",
      "+--------+-------+-----------+--------------+-----+------------+----------------+-------+--------+---------+-----+\n",
      "|SpiceJet|SG-8709|      Delhi|       Evening| zero|       Night|          Mumbai|Economy|    null|        1| 5953|\n",
      "|SpiceJet|SG-8157|      Delhi| Early_Morning| zero|     Morning|          Mumbai|Economy|    null|        1| 5953|\n",
      "+--------+-------+-----------+--------------+-----+------------+----------------+-------+--------+---------+-----+\n",
      "\n"
     ]
    }
   ],
   "source": [
    "df.filter(df.airline == \"SpiceJet\").show(5)"
   ]
  },
  {
   "cell_type": "code",
   "execution_count": 10,
   "metadata": {},
   "outputs": [
    {
     "name": "stdout",
     "output_type": "stream",
     "text": [
      "+---------+-------+-----------+--------------+-----+-------------+----------------+-------+--------+---------+-----+\n",
      "|  airline| flight|source_city|departure_time|stops| arrival_time|destination_city|  class|duration|days_left|price|\n",
      "+---------+-------+-----------+--------------+-----+-------------+----------------+-------+--------+---------+-----+\n",
      "|  AirAsia| I5-764|      Delhi| Early_Morning| zero|Early_Morning|          Mumbai|Economy|    null|        1| 5956|\n",
      "|  Vistara| UK-995|      Delhi|       Morning| zero|    Afternoon|          Mumbai|Economy|    null|        1| 5955|\n",
      "|  Vistara| UK-963|      Delhi|       Morning| zero|      Morning|          Mumbai|Economy|    null|        1| 5955|\n",
      "|  Vistara| UK-945|      Delhi|       Morning| zero|    Afternoon|          Mumbai|Economy|    null|        1| 5955|\n",
      "|  Vistara| UK-927|      Delhi|       Morning| zero|      Morning|          Mumbai|Economy|    null|        1| 6060|\n",
      "|  Vistara| UK-951|      Delhi|     Afternoon| zero|      Evening|          Mumbai|Economy|    null|        1| 6060|\n",
      "|   Indigo|6E-5001|      Delhi| Early_Morning| zero|      Morning|          Mumbai|Economy|    null|        1| 5955|\n",
      "|   Indigo|6E-6202|      Delhi|       Morning| zero|    Afternoon|          Mumbai|Economy|    null|        1| 5955|\n",
      "|   Indigo| 6E-549|      Delhi|     Afternoon| zero|      Evening|          Mumbai|Economy|    null|        1| 5955|\n",
      "|   Indigo|6E-6278|      Delhi|       Morning| zero|      Morning|          Mumbai|Economy|    null|        1| 5955|\n",
      "|Air_India| AI-887|      Delhi| Early_Morning| zero|      Morning|          Mumbai|Economy|    null|        1| 5955|\n",
      "|Air_India| AI-665|      Delhi| Early_Morning| zero|      Morning|          Mumbai|Economy|    null|        1| 5955|\n",
      "+---------+-------+-----------+--------------+-----+-------------+----------------+-------+--------+---------+-----+\n",
      "\n"
     ]
    }
   ],
   "source": [
    "df.filter(df.price > 5954).show()"
   ]
  },
  {
   "cell_type": "code",
   "execution_count": 14,
   "metadata": {},
   "outputs": [],
   "source": [
    "df.createOrReplaceTempView(\"flight_data\")"
   ]
  },
  {
   "cell_type": "code",
   "execution_count": null,
   "metadata": {},
   "outputs": [],
   "source": []
  }
 ],
 "metadata": {
  "kernelspec": {
   "display_name": "Python 3",
   "language": "python",
   "name": "python3"
  },
  "language_info": {
   "codemirror_mode": {
    "name": "ipython",
    "version": 3
   },
   "file_extension": ".py",
   "mimetype": "text/x-python",
   "name": "python",
   "nbconvert_exporter": "python",
   "pygments_lexer": "ipython3",
   "version": "3.10.12"
  }
 },
 "nbformat": 4,
 "nbformat_minor": 2
}
